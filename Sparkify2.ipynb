{
 "cells": [
  {
   "cell_type": "markdown",
   "id": "7f223880",
   "metadata": {},
   "source": [
    "# Notebook to code the Sparkify ETL\n",
    "\n",
    "## Import libraries"
   ]
  },
  {
   "cell_type": "code",
   "execution_count": null,
   "id": "d52d20ca",
   "metadata": {},
   "outputs": [],
   "source": [
    "import configparser\n",
    "from datetime import datetime\n",
    "import os\n",
    "from pyspark.sql import SparkSession\n",
    "from pyspark.sql.functions import udf, col, to_timestamp, to_date\n",
    "from pyspark.sql.functions import year, month, dayofmonth, hour, weekofyear, dayofweek, date_format\n",
    "from pyspark.sql.types import DateType, TimestampType\n",
    "from pyspark.sql.functions import monotonically_increasing_id"
   ]
  },
  {
   "cell_type": "markdown",
   "id": "76b0f5c2",
   "metadata": {},
   "source": [
    "## Define constant and env var for when running locally\n",
    "\n",
    "Running on EMR, it is not necessary, because it already has the user setup"
   ]
  },
  {
   "cell_type": "code",
   "execution_count": null,
   "id": "1ef8a2c6",
   "metadata": {},
   "outputs": [],
   "source": [
    "# config = configparser.ConfigParser()\n",
    "# config.read('dl.cfg')\n",
    "\n",
    "# os.environ['AWS_ACCESS_KEY_ID']=config['credentials']['AWS_ACCESS_KEY_ID']\n",
    "# os.environ['AWS_SECRET_ACCESS_KEY']=config['credentials']['AWS_SECRET_ACCESS_KEY']"
   ]
  },
  {
   "cell_type": "markdown",
   "id": "d6c805e7",
   "metadata": {},
   "source": [
    "## Declare main functions"
   ]
  },
  {
   "cell_type": "code",
   "execution_count": null,
   "id": "9498a1ab",
   "metadata": {},
   "outputs": [],
   "source": [
    "def create_spark_session():\n",
    "    spark = SparkSession \\\n",
    "        .builder \\\n",
    "        .config(\"spark.jars.packages\", \"org.apache.hadoop:hadoop-aws:2.7.0\") \\\n",
    "        .getOrCreate()\n",
    "    return spark\n",
    "\n",
    "\n",
    "def process_song_data(spark, input_data, output_data):\n",
    "    # get filepath to song data file\n",
    "    song_data = f'{input_data}/song_data/*/*/*/*.json'\n",
    "\n",
    "    # read song data file\n",
    "    df = spark.read.json(song_data)\n",
    "\n",
    "    # extract columns to create songs table\n",
    "    songs_table = df.select(\"song_id\", \"title\", \"artist_id\", \"year\", \"duration\")\n",
    "    \n",
    "    # write songs table to parquet files partitioned by year and artist\n",
    "    songs_table.write.mode(\"overwrite\").partitionBy(\"year\", \"artist_id\").parquet(f\"{output_data}/song_data\")\n",
    "\n",
    "    # extract columns to create artists table\n",
    "    artists_table = df.select(\"artist_id\",\n",
    "                              df.artist_name.alias(\"name\"),\n",
    "                              df.artist_location.alias(\"location\"),\n",
    "                              df.artist_latitude.alias(\"latitude\"),\n",
    "                              df.artist_longitude.alias(\"longitude\")).dropDuplicates([\"artist_id\"])\n",
    "    \n",
    "    # write artists table to parquet files\n",
    "    artists_table.write.mode(\"overwrite\").parquet(f\"{output_data}/artist_data\")\n",
    "\n",
    "\n",
    "def process_log_data(spark, input_data, output_data):\n",
    "    # get filepath to log data file\n",
    "    log_data = f'{input_data}/log_data/*/*/*.json'\n",
    "\n",
    "    # read log data file\n",
    "    df = spark.read.json(log_data)\n",
    "    \n",
    "    # filter by actions for song plays\n",
    "    df = df.filter(\"page == 'NextSong'\")\n",
    "\n",
    "    # extract columns for users table    \n",
    "    users_table = df.select(\"userId\",\n",
    "                            df.firstName.alias(\"first_name\"),\n",
    "                            df.lastName.alias(\"last_name\"),\n",
    "                            \"gender\",\n",
    "                            \"level\",\n",
    "                            \"ts\").orderBy(\"ts\", ascending = False).coalesce(1) \\\n",
    "                    .dropDuplicates([\"userId\"]).drop(\"ts\")\n",
    "    \n",
    "    # write users table to parquet files\n",
    "    users_table.write.mode(\"overwrite\").parquet(f\"{output_data}/user_data\")\n",
    "\n",
    "    # create timestamp column from original timestamp column\n",
    "    get_timestamp = udf(lambda timestamp_column: datetime.fromtimestamp(timestamp_column/ 1000.0), TimestampType())\n",
    "    df = df.withColumn(\"ts_timestamp\", get_timestamp(\"ts\"))\n",
    "\n",
    "    # extract columns to create time table\n",
    "    time_table = df.select(df.ts_timestamp.alias(\"start_time\"),\n",
    "                           hour(\"ts_timestamp\").alias(\"hour\"),\n",
    "                           dayofmonth(\"ts_timestamp\").alias(\"day\"),\n",
    "                           weekofyear(\"ts_timestamp\").alias(\"week\"),\n",
    "                           month(\"ts_timestamp\").alias(\"month\"),\n",
    "                           year(\"ts_timestamp\").alias(\"year\"),\n",
    "                           dayofweek(\"ts_timestamp\").alias(\"weekday\")).dropDuplicates()\n",
    "    \n",
    "    # write time table to parquet files partitioned by year and month\n",
    "    time_table.write.mode(\"overwrite\").partitionBy(\"year\", \"month\").parquet(f\"{output_data}/time_data\")\n",
    "\n",
    "    # read in song data to use for songplays table\n",
    "    song_df = spark.read.option(\"basePath\", f\"{output_data}/song_data\").parquet(f\"{output_data}/song_data/*/*/*.parquet\")\n",
    "\n",
    "    # extract columns from joined song and log datasets to create songplays table \n",
    "    songplays_table = df.join(song_df, (song_df.title == df.song) &\n",
    "                              (song_df.duration == df.length), \"left\") \\\n",
    "                            .select(monotonically_increasing_id().alias('songplay_id'),\n",
    "                                   col(\"ts_timestamp\").alias(\"start_time\"),\n",
    "                                   col(\"userId\").alias(\"user_id\"),\n",
    "                                   col(\"level\"), col(\"song_id\"), col(\"artist_id\"),\n",
    "                                   col(\"sessionId\").alias(\"session_id\"), col(\"location\"),\n",
    "                                   col(\"userAgent\").alias(\"user_agent\"),\n",
    "                                   year(\"ts_timestamp\").alias(\"year\"),\n",
    "                                   month(\"ts_timestamp\").alias(\"month\"))\n",
    "\n",
    "    # write songplays table to parquet files partitioned by year and month\n",
    "    songplays_table.write.mode(\"overwrite\").partitionBy(\"year\", \"month\").parquet(f\"{output_data}/songplay_data\")\n",
    "\n",
    "\n",
    "def main():\n",
    "    spark = create_spark_session()\n",
    "    input_data = \"s3a://udacity-dend/\"\n",
    "    output_data = \"s3a://datalake-output-project\"\n",
    "    \n",
    "    process_song_data(spark, input_data, output_data)    \n",
    "    process_log_data(spark, input_data, output_data)\n"
   ]
  },
  {
   "cell_type": "markdown",
   "id": "aa6c1f08",
   "metadata": {},
   "source": [
    "## Running main"
   ]
  },
  {
   "cell_type": "code",
   "execution_count": null,
   "id": "c2dd5e75",
   "metadata": {},
   "outputs": [],
   "source": [
    "main()"
   ]
  }
 ],
 "metadata": {
  "kernelspec": {
   "display_name": "PySpark",
   "language": "",
   "name": "pysparkkernel"
  },
  "language_info": {
   "codemirror_mode": {
    "name": "python",
    "version": 2
   },
   "mimetype": "text/x-python",
   "name": "pyspark",
   "pygments_lexer": "python2"
  }
 },
 "nbformat": 4,
 "nbformat_minor": 5
}
